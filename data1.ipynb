{
 "cells": [
  {
   "cell_type": "code",
   "execution_count": 2,
   "id": "bfbd0c4c-c79e-4f1c-ad3d-7d242893fbbc",
   "metadata": {},
   "outputs": [],
   "source": [
    "# %pip install transformers datasets evaluate emojis"
   ]
  },
  {
   "cell_type": "code",
   "execution_count": 3,
   "id": "97522057-adbe-4a6b-aef3-e578fa1ee085",
   "metadata": {},
   "outputs": [
    {
     "name": "stdout",
     "output_type": "stream",
     "text": [
      "sys.executable: /home/ec2-user/anaconda3/envs/pytorch_p39/bin/python\n",
      "sys.version   : 3.9.13 | packaged by conda-forge | (main, May 27 2022, 16:56:21) [GCC 10.3.0]\n",
      "sys.path      :\n",
      "                /home/ec2-user/SageMaker\n",
      "                /home/ec2-user/anaconda3/envs/pytorch_p39/lib/python39.zip\n",
      "                /home/ec2-user/anaconda3/envs/pytorch_p39/lib/python3.9\n",
      "                /home/ec2-user/anaconda3/envs/pytorch_p39/lib/python3.9/lib-dynload\n",
      "                \n",
      "                /home/ec2-user/anaconda3/envs/pytorch_p39/lib/python3.9/site-packages\n",
      "                /home/ec2-user/anaconda3/envs/pytorch_p39/lib/python3.9/site-packages/IPython/extensions\n",
      "                /home/ec2-user/.ipython\n",
      "cpu\n",
      "CPU\n"
     ]
    }
   ],
   "source": [
    "# import os\n",
    "import sys\n",
    "\n",
    "import numpy as np\n",
    "import pandas as pd\n",
    "\n",
    "import torch\n",
    "import torch.nn.functional as F\n",
    "import transformers\n",
    "from transformers import AutoTokenizer, AutoModelForSequenceClassification, DataCollatorWithPadding\n",
    "from transformers import pipeline\n",
    "from transformers import Trainer, TrainingArguments\n",
    "from transformers import logging\n",
    "import evaluate\n",
    "\n",
    "import datasets\n",
    "from datasets import load_metric\n",
    "\n",
    "import emojis\n",
    "\n",
    "from sklearn.metrics import precision_recall_fscore_support, accuracy_score, balanced_accuracy_score, classification_report\n",
    "\n",
    "print('sys.executable:', sys.executable)\n",
    "print('sys.version   :', sys.version.replace('\\n', ''))\n",
    "print('sys.path      :')\n",
    "for x in sys.path:\n",
    "    print('               ', x)\n",
    "\n",
    "# os.environ['WANDB_DISABLED'] = 'true'\n",
    "\n",
    "device = torch.device('cuda' if torch.cuda.is_available() else 'cpu')\n",
    "print(device)\n",
    "\n",
    "if torch.cuda.is_available():\n",
    "    print('cuda n:', torch.cuda.device_count())\n",
    "    current = torch.cuda.current_device()\n",
    "    print('current', current, torch.cuda.device(current))\n",
    "else:\n",
    "    print('CPU')"
   ]
  },
  {
   "cell_type": "code",
   "execution_count": 4,
   "id": "ab4407fd-5b3c-442f-a817-6089cbccfea2",
   "metadata": {
    "tags": []
   },
   "outputs": [
    {
     "name": "stderr",
     "output_type": "stream",
     "text": [
      "Found cached dataset tamilmixsentiment (/home/ec2-user/.cache/huggingface/datasets/tamilmixsentiment/default/0.0.0/887420eecaf868ac6c10990649e49d10467e4cd4dffb98a6f20e4fe7c58df390)\n"
     ]
    },
    {
     "data": {
      "application/json": {
       "ascii": false,
       "bar_format": null,
       "colour": null,
       "elapsed": 0.08778190612792969,
       "initial": 0,
       "n": 0,
       "ncols": null,
       "nrows": null,
       "postfix": null,
       "prefix": "",
       "rate": null,
       "total": 3,
       "unit": "it",
       "unit_divisor": 1000,
       "unit_scale": false
      },
      "application/vnd.jupyter.widget-view+json": {
       "model_id": "56e18b5dd71c4fb9b8c55c14a33db2dc",
       "version_major": 2,
       "version_minor": 0
      },
      "text/plain": [
       "  0%|          | 0/3 [00:00<?, ?it/s]"
      ]
     },
     "metadata": {},
     "output_type": "display_data"
    },
    {
     "name": "stdout",
     "output_type": "stream",
     "text": [
      "🤣    108\n",
      "🤔     98\n",
      "🤩     91\n",
      "🤘     70\n",
      "🤗     41\n",
      "🥰     39\n",
      "🤦     16\n",
      "🤙     15\n",
      "🤟      9\n",
      "🦁      5\n",
      "🧐      5\n",
      "🤞      5\n",
      "🥳      4\n",
      "🤓      4\n",
      "🤖      4\n",
      "🧡      4\n",
      "🤪      4\n",
      "🥁      4\n",
      "🤫      3\n",
      "🤭      3\n",
      "🤒      3\n",
      "🤢      3\n",
      "🤯      3\n",
      "🤨      3\n",
      "🤝      3\n",
      "🤕      3\n",
      "🤐      3\n",
      "🤑      2\n",
      "🦸      2\n",
      "🥂      2\n",
      "🤚      2\n",
      "🤮      2\n",
      "🤜      2\n",
      "🤳      1\n",
      "🤷      1\n",
      "🥺      1\n",
      "🤥      1\n",
      "🦆      1\n",
      "🤬      1\n",
      "🤛      1\n",
      "🤠      1\n",
      "🤤      1\n",
      "🧨      1\n",
      "🦂      1\n",
      "🥵      1\n",
      "🤧      1\n",
      "dtype: int64\n"
     ]
    }
   ],
   "source": [
    "dataset = datasets.load_dataset('tamilmixsentiment')\n",
    "type(dataset)\n",
    "dataset\n",
    "\n",
    "testset = dataset.pop('test')\n",
    "testset\n",
    "\n",
    "my_emojis = [list(emojis.get(x)) for x in dataset['train']['text']]\n",
    "my_emojis = [y for x in my_emojis for y in x]\n",
    "print(pd.Series(my_emojis).value_counts())"
   ]
  },
  {
   "cell_type": "code",
   "execution_count": 5,
   "id": "9c264d1e-870c-4fe7-9e7c-28af4f1258bd",
   "metadata": {},
   "outputs": [
    {
     "name": "stderr",
     "output_type": "stream",
     "text": [
      "Loading cached shuffled indices for dataset at /home/ec2-user/.cache/huggingface/datasets/tamilmixsentiment/default/0.0.0/887420eecaf868ac6c10990649e49d10467e4cd4dffb98a6f20e4fe7c58df390/cache-e0dc15cb3461e70b.arrow\n",
      "Loading cached shuffled indices for dataset at /home/ec2-user/.cache/huggingface/datasets/tamilmixsentiment/default/0.0.0/887420eecaf868ac6c10990649e49d10467e4cd4dffb98a6f20e4fe7c58df390/cache-ef0be8f2bf001be5.arrow\n"
     ]
    },
    {
     "name": "stdout",
     "output_type": "stream",
     "text": [
      "0    0.688438\n",
      "1    0.125331\n",
      "2    0.106796\n",
      "3    0.044131\n",
      "4    0.035305\n",
      "Name: label, dtype: float64\n",
      "0    0.674603\n",
      "1    0.142857\n",
      "2    0.095238\n",
      "3    0.063492\n",
      "4    0.023810\n",
      "Name: label, dtype: float64\n"
     ]
    }
   ],
   "source": [
    "# make subset of the data\n",
    "def red(ds):\n",
    "    p = 0.1\n",
    "    n = int(ds.num_rows * p)\n",
    "    res = ds.shuffle(seed=2023).select(range(n))\n",
    "    return res\n",
    "\n",
    "\n",
    "dataset = datasets.DatasetDict({\n",
    "    'train': red(dataset['train']),\n",
    "    'validation': red(dataset['validation']),\n",
    "})\n",
    "dataset\n",
    "\n",
    "print(dataset['train'].to_pandas()['label'].value_counts(normalize=True))\n",
    "print(dataset['validation'].to_pandas()['label'].value_counts(normalize=True))"
   ]
  },
  {
   "cell_type": "code",
   "execution_count": 6,
   "id": "c3b7eef0-3691-46ff-845c-d05d6aeb305b",
   "metadata": {},
   "outputs": [
    {
     "name": "stdout",
     "output_type": "stream",
     "text": [
      "119547\n",
      "119593\n",
      "num_labels: 5\n"
     ]
    },
    {
     "name": "stderr",
     "output_type": "stream",
     "text": [
      "Some weights of the model checkpoint at bert-base-multilingual-cased were not used when initializing BertForSequenceClassification: ['cls.seq_relationship.weight', 'cls.predictions.transform.dense.bias', 'cls.seq_relationship.bias', 'cls.predictions.bias', 'cls.predictions.decoder.weight', 'cls.predictions.transform.LayerNorm.bias', 'cls.predictions.transform.dense.weight', 'cls.predictions.transform.LayerNorm.weight']\n",
      "- This IS expected if you are initializing BertForSequenceClassification from the checkpoint of a model trained on another task or with another architecture (e.g. initializing a BertForSequenceClassification model from a BertForPreTraining model).\n",
      "- This IS NOT expected if you are initializing BertForSequenceClassification from the checkpoint of a model that you expect to be exactly identical (initializing a BertForSequenceClassification model from a BertForSequenceClassification model).\n",
      "Some weights of BertForSequenceClassification were not initialized from the model checkpoint at bert-base-multilingual-cased and are newly initialized: ['classifier.weight', 'classifier.bias']\n",
      "You should probably TRAIN this model on a down-stream task to be able to use it for predictions and inference.\n"
     ]
    },
    {
     "name": "stdout",
     "output_type": "stream",
     "text": [
      "model.device cpu\n",
      "model.device cpu\n"
     ]
    },
    {
     "data": {
      "application/json": {
       "ascii": false,
       "bar_format": null,
       "colour": null,
       "elapsed": 0.014344215393066406,
       "initial": 0,
       "n": 0,
       "ncols": null,
       "nrows": null,
       "postfix": null,
       "prefix": "",
       "rate": null,
       "total": 2,
       "unit": "ba",
       "unit_divisor": 1000,
       "unit_scale": false
      },
      "application/vnd.jupyter.widget-view+json": {
       "model_id": "802f1e0d6e6b492689da37c91464b11b",
       "version_major": 2,
       "version_minor": 0
      },
      "text/plain": [
       "  0%|          | 0/2 [00:00<?, ?ba/s]"
      ]
     },
     "metadata": {},
     "output_type": "display_data"
    },
    {
     "data": {
      "application/json": {
       "ascii": false,
       "bar_format": null,
       "colour": null,
       "elapsed": 0.01425933837890625,
       "initial": 0,
       "n": 0,
       "ncols": null,
       "nrows": null,
       "postfix": null,
       "prefix": "",
       "rate": null,
       "total": 1,
       "unit": "ba",
       "unit_divisor": 1000,
       "unit_scale": false
      },
      "application/vnd.jupyter.widget-view+json": {
       "model_id": "fd5fb1655226495da54707fb713176ce",
       "version_major": 2,
       "version_minor": 0
      },
      "text/plain": [
       "  0%|          | 0/1 [00:00<?, ?ba/s]"
      ]
     },
     "metadata": {},
     "output_type": "display_data"
    },
    {
     "data": {
      "text/plain": [
       "Dataset({\n",
       "    features: ['text', 'label', 'input_ids', 'token_type_ids', 'attention_mask'],\n",
       "    num_rows: 1133\n",
       "})"
      ]
     },
     "execution_count": 6,
     "metadata": {},
     "output_type": "execute_result"
    }
   ],
   "source": [
    "model_name = 'bert-base-multilingual-cased'\n",
    "\n",
    "\n",
    "tokenizer = AutoTokenizer.from_pretrained(model_name, model_max_length=512)\n",
    "print(len(tokenizer))  # 119547\n",
    "assert tokenizer.tokenize('🧡') == ['[UNK]']\n",
    "\n",
    "tokenizer.add_tokens(list(set(my_emojis)))\n",
    "print(len(tokenizer))  # 119593\n",
    "assert tokenizer.tokenize('🧡') == ['🧡']\n",
    "\n",
    "\n",
    "data_collator = DataCollatorWithPadding(tokenizer=tokenizer)\n",
    "\n",
    "num_labels = len(set(dataset['train']['label']))\n",
    "print('num_labels:', num_labels)\n",
    "\n",
    "model = AutoModelForSequenceClassification.from_pretrained(\n",
    "    model_name,\n",
    "    num_labels=num_labels,\n",
    ")\n",
    "model.num_labels\n",
    "model.resize_token_embeddings(len(tokenizer))\n",
    "print('model.device', model.device)\n",
    "model.to(device)\n",
    "print('model.device', model.device)\n",
    "\n",
    "\n",
    "def tokenize_function(ds):\n",
    "    res = tokenizer(\n",
    "        ds['text'],\n",
    "        padding=True,\n",
    "        truncation=True,\n",
    "        # max_length=512,\n",
    "        return_tensors='pt',\n",
    "    )\n",
    "    return res\n",
    "\n",
    "\n",
    "tokenized_dataset = dataset.map(tokenize_function, batched=True)\n",
    "tokenized_dataset\n",
    "\n",
    "tokenized_dataset['train']\n"
   ]
  },
  {
   "cell_type": "code",
   "execution_count": 7,
   "id": "f8db5c06-d51a-499b-8321-0ecdf13e8d0c",
   "metadata": {},
   "outputs": [],
   "source": [
    "\n",
    "metric = evaluate.load(\"accuracy\")\n",
    "\n",
    "\n",
    "def compute_metrics(eval_pred):\n",
    "    logits, labels = eval_pred\n",
    "    predictions = np.argmax(logits, axis=-1)\n",
    "    res = metric.compute(predictions=predictions, references=labels)\n",
    "    print('EVALUANDO', flush=True)\n",
    "    print(type(res), flush=True)\n",
    "    print(res, flush=True)\n",
    "    return res\n",
    "\n",
    "\n",
    "training_args = TrainingArguments(\n",
    "    output_dir='./results_bert',\n",
    "    learning_rate=2e-5,\n",
    "    per_device_train_batch_size=16,\n",
    "    per_device_eval_batch_size=16,\n",
    "    num_train_epochs=3,\n",
    "    weight_decay=0.01,\n",
    "    save_total_limit=1,\n",
    "    save_strategy='epoch',  # 'no'\n",
    "    evaluation_strategy='steps',  # 'no'\n",
    "    report_to='none'\n",
    ")\n",
    "\n",
    "\n",
    "my_weights = 1 / dataset['train'].to_pandas()['label'].value_counts(normalize=True)\n",
    "my_weights = np.log(my_weights)\n",
    "my_weights = my_weights.tolist()\n",
    "my_weights\n",
    "\n",
    "\n",
    "class CustomTrainer(Trainer):\n",
    "    def compute_loss(self, model, inputs, return_outputs=False):\n",
    "        labels = inputs.get('labels')\n",
    "        # forward pass\n",
    "        outputs = model(**inputs)\n",
    "        logits = outputs.get('logits')\n",
    "        # compute custom loss (suppose one has 3 labels with different weights)\n",
    "        # loss_fct = nn.CrossEntropyLoss(weight=torch.tensor([1.0, 2.0, 3.0]))\n",
    "        loss_fct = torch.nn.CrossEntropyLoss(weight=torch.tensor(my_weights))\n",
    "        loss = loss_fct(logits.view(-1, self.model.config.num_labels), labels.view(-1))\n",
    "        return (loss, outputs) if return_outputs else loss\n",
    "    \n",
    "trainer = CustomTrainer(\n",
    "    model=model,\n",
    "    args=training_args,\n",
    "    train_dataset=tokenized_dataset['train'],\n",
    "    eval_dataset=tokenized_dataset['validation'],\n",
    "    tokenizer=tokenizer,\n",
    "    data_collator=data_collator,\n",
    "    compute_metrics=compute_metrics,\n",
    ")"
   ]
  },
  {
   "cell_type": "code",
   "execution_count": 8,
   "id": "ba8fdb07-c260-43a7-a0e4-715ead1cd745",
   "metadata": {},
   "outputs": [
    {
     "name": "stdout",
     "output_type": "stream",
     "text": [
      "trainer.args.device: cpu\n"
     ]
    }
   ],
   "source": [
    "print('trainer.args.device:', trainer.args.device)"
   ]
  },
  {
   "cell_type": "code",
   "execution_count": null,
   "id": "3516b1ba-5143-43ee-87e2-f20b5ddee6b0",
   "metadata": {},
   "outputs": [
    {
     "name": "stderr",
     "output_type": "stream",
     "text": [
      "The following columns in the training set don't have a corresponding argument in `BertForSequenceClassification.forward` and have been ignored: text. If text are not expected by `BertForSequenceClassification.forward`,  you can safely ignore this message.\n",
      "/home/ec2-user/anaconda3/envs/pytorch_p39/lib/python3.9/site-packages/transformers/optimization.py:306: FutureWarning: This implementation of AdamW is deprecated and will be removed in a future version. Use the PyTorch implementation torch.optim.AdamW instead, or set `no_deprecation_warning=True` to disable this warning\n",
      "  warnings.warn(\n",
      "***** Running training *****\n",
      "  Num examples = 1133\n",
      "  Num Epochs = 3\n",
      "  Instantaneous batch size per device = 16\n",
      "  Total train batch size (w. parallel, distributed & accumulation) = 16\n",
      "  Gradient Accumulation steps = 1\n",
      "  Total optimization steps = 213\n",
      "  Number of trainable parameters = 177892613\n",
      "You're using a BertTokenizerFast tokenizer. Please note that with a fast tokenizer, using the `__call__` method is faster than using a method to encode the text followed by a call to the `pad` method to get a padded encoding.\n"
     ]
    }
   ],
   "source": [
    "trainer.train()"
   ]
  },
  {
   "cell_type": "code",
   "execution_count": null,
   "id": "a8612ab5-99a8-4931-b04e-b5aef34e442b",
   "metadata": {},
   "outputs": [],
   "source": [
    "trainer.save_model('./results_bert_final_trained_2')"
   ]
  },
  {
   "cell_type": "code",
   "execution_count": null,
   "id": "0a3b9e4b-d129-433e-86c7-43540030a8b8",
   "metadata": {},
   "outputs": [],
   "source": [
    "# Evaluation\n",
    "ts = testset.to_pandas()\n",
    "\n",
    "pip = pipeline('sentiment-analysis', './results_bert_final_trained_2')\n",
    "\n",
    "res = pip(ts['text'].tolist())\n",
    "res\n",
    "ts[['pred', 'prob']] = pd.DataFrame(res).values\n",
    "ts\n",
    "ts['pred'].value_counts()\n",
    "ts['pred'].value_counts(normalize=True)\n",
    "\n",
    "ts['pred_n'] = ts['pred'].str.replace('LABEL_', '').astype(int)\n",
    "\n",
    "pd.crosstab(ts['label'], ts['pred'])\n",
    "pd.crosstab(ts['label'], ts['pred_n'])\n",
    "\n",
    "precision_recall_fscore_support(ts['label'], ts['pred_n'])\n",
    "pd.DataFrame(precision_recall_fscore_support(ts['label'], ts['pred_n']))\n",
    "\n",
    "precision_recall_fscore_support(ts['label'], ts['pred_n'], average='weighted')\n",
    "\n",
    "print(classification_report(ts['label'], ts['pred_n']))"
   ]
  }
 ],
 "metadata": {
  "kernelspec": {
   "display_name": "conda_pytorch_p39",
   "language": "python",
   "name": "conda_pytorch_p39"
  },
  "language_info": {
   "codemirror_mode": {
    "name": "ipython",
    "version": 3
   },
   "file_extension": ".py",
   "mimetype": "text/x-python",
   "name": "python",
   "nbconvert_exporter": "python",
   "pygments_lexer": "ipython3",
   "version": "3.9.13"
  }
 },
 "nbformat": 4,
 "nbformat_minor": 5
}
