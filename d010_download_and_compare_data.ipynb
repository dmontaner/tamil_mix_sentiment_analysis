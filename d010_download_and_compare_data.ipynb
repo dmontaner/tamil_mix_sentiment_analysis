{
 "cells": [
  {
   "cell_type": "markdown",
   "id": "2444a902",
   "metadata": {},
   "source": [
    "# Compare data sources"
   ]
  },
  {
   "cell_type": "markdown",
   "id": "5abe1df6",
   "metadata": {},
   "source": [
    "The __Tamilmixsentiment datset__ presented in\n",
    " [Chakravarthi et. al](https://aclanthology.org/2020.sltu-1.28.pdf)\n",
    " was firstly contributed to the\n",
    " [UCI Machine Learning Repository](http://archive.ics.uci.edu/ml/datasets/TamilSentiMix)\n",
    " and later published in the [Hugging Face Data Repository](https://huggingface.co/datasets/tamilmixsentiment)."
   ]
  },
  {
   "cell_type": "markdown",
   "id": "89ae70b7",
   "metadata": {},
   "source": [
    "In this notebook I compare both datsets and make sure there are no differences between them."
   ]
  },
  {
   "cell_type": "code",
   "execution_count": 1,
   "id": "90b44d62",
   "metadata": {
    "execution": {
     "iopub.execute_input": "2023-01-26T21:21:52.094360Z",
     "iopub.status.busy": "2023-01-26T21:21:52.093727Z",
     "iopub.status.idle": "2023-01-26T21:21:52.912533Z",
     "shell.execute_reply": "2023-01-26T21:21:52.911941Z"
    }
   },
   "outputs": [],
   "source": [
    "import datasets\n",
    "import pandas as pd\n",
    "\n",
    "datasets.logging.set_verbosity_error()"
   ]
  },
  {
   "cell_type": "markdown",
   "id": "aca4aca6",
   "metadata": {},
   "source": [
    "Read from Hugging Face"
   ]
  },
  {
   "cell_type": "code",
   "execution_count": 2,
   "id": "d47f347c",
   "metadata": {
    "execution": {
     "iopub.execute_input": "2023-01-26T21:21:52.915421Z",
     "iopub.status.busy": "2023-01-26T21:21:52.914982Z",
     "iopub.status.idle": "2023-01-26T21:21:55.317784Z",
     "shell.execute_reply": "2023-01-26T21:21:55.317195Z"
    }
   },
   "outputs": [
    {
     "data": {
      "application/vnd.jupyter.widget-view+json": {
       "model_id": "399757ba744946b7a10ae0b3e4a974e0",
       "version_major": 2,
       "version_minor": 0
      },
      "text/plain": [
       "  0%|          | 0/3 [00:00<?, ?it/s]"
      ]
     },
     "metadata": {},
     "output_type": "display_data"
    },
    {
     "data": {
      "text/plain": [
       "DatasetDict({\n",
       "    train: Dataset({\n",
       "        features: ['text', 'label'],\n",
       "        num_rows: 11335\n",
       "    })\n",
       "    validation: Dataset({\n",
       "        features: ['text', 'label'],\n",
       "        num_rows: 1260\n",
       "    })\n",
       "    test: Dataset({\n",
       "        features: ['text', 'label'],\n",
       "        num_rows: 3149\n",
       "    })\n",
       "})"
      ]
     },
     "execution_count": 2,
     "metadata": {},
     "output_type": "execute_result"
    }
   ],
   "source": [
    "ds = datasets.load_dataset('tamilmixsentiment')\n",
    "ds"
   ]
  },
  {
   "cell_type": "markdown",
   "id": "63bbc641",
   "metadata": {},
   "source": [
    "and merge into a pandas dataframe"
   ]
  },
  {
   "cell_type": "code",
   "execution_count": 3,
   "id": "709bc50f",
   "metadata": {
    "execution": {
     "iopub.execute_input": "2023-01-26T21:21:55.320059Z",
     "iopub.status.busy": "2023-01-26T21:21:55.319890Z",
     "iopub.status.idle": "2023-01-26T21:21:55.337492Z",
     "shell.execute_reply": "2023-01-26T21:21:55.336918Z"
    }
   },
   "outputs": [
    {
     "data": {
      "text/html": [
       "<div>\n",
       "<style scoped>\n",
       "    .dataframe tbody tr th:only-of-type {\n",
       "        vertical-align: middle;\n",
       "    }\n",
       "\n",
       "    .dataframe tbody tr th {\n",
       "        vertical-align: top;\n",
       "    }\n",
       "\n",
       "    .dataframe thead th {\n",
       "        text-align: right;\n",
       "    }\n",
       "</style>\n",
       "<table border=\"1\" class=\"dataframe\">\n",
       "  <thead>\n",
       "    <tr style=\"text-align: right;\">\n",
       "      <th></th>\n",
       "      <th>text</th>\n",
       "      <th>label</th>\n",
       "    </tr>\n",
       "  </thead>\n",
       "  <tbody>\n",
       "    <tr>\n",
       "      <th>0</th>\n",
       "      <td>Trailer late ah parthavanga like podunga</td>\n",
       "      <td>0</td>\n",
       "    </tr>\n",
       "    <tr>\n",
       "      <th>1</th>\n",
       "      <td>Move pathutu vanthu trailer pakurvnga yaru</td>\n",
       "      <td>0</td>\n",
       "    </tr>\n",
       "    <tr>\n",
       "      <th>2</th>\n",
       "      <td>Puthupetai dhanush  ah yarellam pathinga</td>\n",
       "      <td>0</td>\n",
       "    </tr>\n",
       "    <tr>\n",
       "      <th>3</th>\n",
       "      <td>Dhanush oda character ,puthu sa erukay , mass ta</td>\n",
       "      <td>0</td>\n",
       "    </tr>\n",
       "    <tr>\n",
       "      <th>4</th>\n",
       "      <td>vera level ippa pesungada mokka nu thalaivaaaaaa</td>\n",
       "      <td>0</td>\n",
       "    </tr>\n",
       "    <tr>\n",
       "      <th>...</th>\n",
       "      <td>...</td>\n",
       "      <td>...</td>\n",
       "    </tr>\n",
       "    <tr>\n",
       "      <th>3144</th>\n",
       "      <td>Tamil krish ah irukum oh...</td>\n",
       "      <td>0</td>\n",
       "    </tr>\n",
       "    <tr>\n",
       "      <th>3145</th>\n",
       "      <td>Thalaivaaaaaa... trailer ye pattaiya kelapudhe...</td>\n",
       "      <td>0</td>\n",
       "    </tr>\n",
       "    <tr>\n",
       "      <th>3146</th>\n",
       "      <td>Innum neraya neraya neraya neraya neraya</td>\n",
       "      <td>2</td>\n",
       "    </tr>\n",
       "    <tr>\n",
       "      <th>3147</th>\n",
       "      <td>1:05 to 1:30  Vere level masss</td>\n",
       "      <td>0</td>\n",
       "    </tr>\n",
       "    <tr>\n",
       "      <th>3148</th>\n",
       "      <td>Pangaalingala1.3k like 40m view varamum Innum ...</td>\n",
       "      <td>0</td>\n",
       "    </tr>\n",
       "  </tbody>\n",
       "</table>\n",
       "<p>15744 rows × 2 columns</p>\n",
       "</div>"
      ],
      "text/plain": [
       "                                                   text  label\n",
       "0              Trailer late ah parthavanga like podunga      0\n",
       "1            Move pathutu vanthu trailer pakurvnga yaru      0\n",
       "2              Puthupetai dhanush  ah yarellam pathinga      0\n",
       "3      Dhanush oda character ,puthu sa erukay , mass ta      0\n",
       "4      vera level ippa pesungada mokka nu thalaivaaaaaa      0\n",
       "...                                                 ...    ...\n",
       "3144                        Tamil krish ah irukum oh...      0\n",
       "3145  Thalaivaaaaaa... trailer ye pattaiya kelapudhe...      0\n",
       "3146           Innum neraya neraya neraya neraya neraya      2\n",
       "3147                     1:05 to 1:30  Vere level masss      0\n",
       "3148  Pangaalingala1.3k like 40m view varamum Innum ...      0\n",
       "\n",
       "[15744 rows x 2 columns]"
      ]
     },
     "execution_count": 3,
     "metadata": {},
     "output_type": "execute_result"
    }
   ],
   "source": [
    "hf = pd.concat([v.to_pandas() for k, v in ds.items()])\n",
    "hf"
   ]
  },
  {
   "cell_type": "markdown",
   "id": "8f9ae8c9",
   "metadata": {},
   "source": [
    "recode labels"
   ]
  },
  {
   "cell_type": "code",
   "execution_count": 4,
   "id": "06d56e8c",
   "metadata": {
    "execution": {
     "iopub.execute_input": "2023-01-26T21:21:55.339794Z",
     "iopub.status.busy": "2023-01-26T21:21:55.339559Z",
     "iopub.status.idle": "2023-01-26T21:21:55.346002Z",
     "shell.execute_reply": "2023-01-26T21:21:55.345500Z"
    }
   },
   "outputs": [
    {
     "name": "stdout",
     "output_type": "stream",
     "text": [
      "Positive          10559\n",
      "Negative           2037\n",
      "Mixed_feelings     1801\n",
      "unknown_state       850\n",
      "not-Tamil           497\n",
      "Name: label, dtype: int64\n"
     ]
    }
   ],
   "source": [
    "hf['label'] = hf['label'].replace(dict(enumerate(ds['test'].features['label'].names)))\n",
    "print(hf['label'].value_counts())"
   ]
  },
  {
   "cell_type": "markdown",
   "id": "b594d24f",
   "metadata": {},
   "source": [
    "clean whites"
   ]
  },
  {
   "cell_type": "code",
   "execution_count": 5,
   "id": "3c7c5dde",
   "metadata": {
    "execution": {
     "iopub.execute_input": "2023-01-26T21:21:55.348263Z",
     "iopub.status.busy": "2023-01-26T21:21:55.348043Z",
     "iopub.status.idle": "2023-01-26T21:21:55.353914Z",
     "shell.execute_reply": "2023-01-26T21:21:55.353353Z"
    }
   },
   "outputs": [],
   "source": [
    "hf['text'] = hf['text'].str.strip()"
   ]
  },
  {
   "cell_type": "markdown",
   "id": "be895a31",
   "metadata": {},
   "source": [
    "Read from UCI"
   ]
  },
  {
   "cell_type": "code",
   "execution_count": 6,
   "id": "10907352",
   "metadata": {
    "execution": {
     "iopub.execute_input": "2023-01-26T21:21:55.356170Z",
     "iopub.status.busy": "2023-01-26T21:21:55.355958Z",
     "iopub.status.idle": "2023-01-26T21:21:56.986358Z",
     "shell.execute_reply": "2023-01-26T21:21:56.985535Z"
    }
   },
   "outputs": [],
   "source": [
    "df = pd.read_csv(\n",
    "    'http://archive.ics.uci.edu/ml/machine-learning-databases/00610/Tamil_first_ready_for_sentiment.csv',\n",
    "    sep='\\t', names=['label', 'text']\n",
    ")"
   ]
  },
  {
   "cell_type": "markdown",
   "id": "40dd7044",
   "metadata": {},
   "source": [
    "some cleaning"
   ]
  },
  {
   "cell_type": "code",
   "execution_count": 7,
   "id": "0b292ca1",
   "metadata": {
    "execution": {
     "iopub.execute_input": "2023-01-26T21:21:56.989480Z",
     "iopub.status.busy": "2023-01-26T21:21:56.989191Z",
     "iopub.status.idle": "2023-01-26T21:21:57.001665Z",
     "shell.execute_reply": "2023-01-26T21:21:57.000946Z"
    }
   },
   "outputs": [],
   "source": [
    "df['label'] = df['label'].str.strip()\n",
    "df['text'] = df['text'].str.strip()"
   ]
  },
  {
   "cell_type": "markdown",
   "id": "954a84b5",
   "metadata": {},
   "source": [
    "and reorder columns"
   ]
  },
  {
   "cell_type": "code",
   "execution_count": 8,
   "id": "b3287949",
   "metadata": {
    "execution": {
     "iopub.execute_input": "2023-01-26T21:21:57.004375Z",
     "iopub.status.busy": "2023-01-26T21:21:57.004112Z",
     "iopub.status.idle": "2023-01-26T21:21:57.013469Z",
     "shell.execute_reply": "2023-01-26T21:21:57.012829Z"
    }
   },
   "outputs": [
    {
     "data": {
      "text/html": [
       "<div>\n",
       "<style scoped>\n",
       "    .dataframe tbody tr th:only-of-type {\n",
       "        vertical-align: middle;\n",
       "    }\n",
       "\n",
       "    .dataframe tbody tr th {\n",
       "        vertical-align: top;\n",
       "    }\n",
       "\n",
       "    .dataframe thead th {\n",
       "        text-align: right;\n",
       "    }\n",
       "</style>\n",
       "<table border=\"1\" class=\"dataframe\">\n",
       "  <thead>\n",
       "    <tr style=\"text-align: right;\">\n",
       "      <th></th>\n",
       "      <th>text</th>\n",
       "      <th>label</th>\n",
       "    </tr>\n",
       "  </thead>\n",
       "  <tbody>\n",
       "    <tr>\n",
       "      <th>0</th>\n",
       "      <td>Enna da ellam avan seyal  Mari iruku</td>\n",
       "      <td>Negative</td>\n",
       "    </tr>\n",
       "    <tr>\n",
       "      <th>1</th>\n",
       "      <td>This movei is just like  ellam avan seyal</td>\n",
       "      <td>Negative</td>\n",
       "    </tr>\n",
       "    <tr>\n",
       "      <th>2</th>\n",
       "      <td>Padam vanthathum 13k dislike pottavaga yellam ...</td>\n",
       "      <td>Positive</td>\n",
       "    </tr>\n",
       "    <tr>\n",
       "      <th>3</th>\n",
       "      <td>Neraya neraya neraya... ... V era level...thala</td>\n",
       "      <td>Positive</td>\n",
       "    </tr>\n",
       "    <tr>\n",
       "      <th>4</th>\n",
       "      <td>wow thavala sema mass....padam oru pundaikum a...</td>\n",
       "      <td>Positive</td>\n",
       "    </tr>\n",
       "    <tr>\n",
       "      <th>...</th>\n",
       "      <td>...</td>\n",
       "      <td>...</td>\n",
       "    </tr>\n",
       "    <tr>\n",
       "      <th>15739</th>\n",
       "      <td>ivaru cinemala laam nalla tha prasuraaru...aan...</td>\n",
       "      <td>Mixed_feelings</td>\n",
       "    </tr>\n",
       "    <tr>\n",
       "      <th>15740</th>\n",
       "      <td>Pattaya Kilaputhupaa trailer... !!!!! Get Rajn...</td>\n",
       "      <td>Positive</td>\n",
       "    </tr>\n",
       "    <tr>\n",
       "      <th>15741</th>\n",
       "      <td>En innum trending la varala? Ennada panringa Y...</td>\n",
       "      <td>Mixed_feelings</td>\n",
       "    </tr>\n",
       "    <tr>\n",
       "      <th>15742</th>\n",
       "      <td>Rajnikant sir plz aap india ke pm ban jaao</td>\n",
       "      <td>not-Tamil</td>\n",
       "    </tr>\n",
       "    <tr>\n",
       "      <th>15743</th>\n",
       "      <td>Enagada YouTube inum trending la add panama ir...</td>\n",
       "      <td>Mixed_feelings</td>\n",
       "    </tr>\n",
       "  </tbody>\n",
       "</table>\n",
       "<p>15744 rows × 2 columns</p>\n",
       "</div>"
      ],
      "text/plain": [
       "                                                    text           label\n",
       "0                   Enna da ellam avan seyal  Mari iruku        Negative\n",
       "1              This movei is just like  ellam avan seyal        Negative\n",
       "2      Padam vanthathum 13k dislike pottavaga yellam ...        Positive\n",
       "3        Neraya neraya neraya... ... V era level...thala        Positive\n",
       "4      wow thavala sema mass....padam oru pundaikum a...        Positive\n",
       "...                                                  ...             ...\n",
       "15739  ivaru cinemala laam nalla tha prasuraaru...aan...  Mixed_feelings\n",
       "15740  Pattaya Kilaputhupaa trailer... !!!!! Get Rajn...        Positive\n",
       "15741  En innum trending la varala? Ennada panringa Y...  Mixed_feelings\n",
       "15742         Rajnikant sir plz aap india ke pm ban jaao       not-Tamil\n",
       "15743  Enagada YouTube inum trending la add panama ir...  Mixed_feelings\n",
       "\n",
       "[15744 rows x 2 columns]"
      ]
     },
     "execution_count": 8,
     "metadata": {},
     "output_type": "execute_result"
    }
   ],
   "source": [
    "df = df[hf.columns]\n",
    "df"
   ]
  },
  {
   "cell_type": "markdown",
   "id": "b2187e29",
   "metadata": {},
   "source": [
    "and recode some labels"
   ]
  },
  {
   "cell_type": "code",
   "execution_count": 9,
   "id": "87ceec76",
   "metadata": {
    "execution": {
     "iopub.execute_input": "2023-01-26T21:21:57.016120Z",
     "iopub.status.busy": "2023-01-26T21:21:57.015861Z",
     "iopub.status.idle": "2023-01-26T21:21:57.022076Z",
     "shell.execute_reply": "2023-01-26T21:21:57.021486Z"
    }
   },
   "outputs": [
    {
     "name": "stdout",
     "output_type": "stream",
     "text": [
      "Positive          10559\n",
      "Negative           2037\n",
      "Mixed_feelings     1801\n",
      "unknown_state       850\n",
      "not-Tamil           497\n",
      "Name: label, dtype: int64\n"
     ]
    }
   ],
   "source": [
    "df['label'] = df['label']  # .replace('unknown_state', 'Neutral').replace('not-Tamil', 'Other_language')\n",
    "print(df['label'].value_counts())"
   ]
  },
  {
   "cell_type": "markdown",
   "id": "d59f6c59",
   "metadata": {},
   "source": [
    "Lets arrange the datasets in the same order"
   ]
  },
  {
   "cell_type": "code",
   "execution_count": 10,
   "id": "33af0ca3",
   "metadata": {
    "execution": {
     "iopub.execute_input": "2023-01-26T21:21:57.024548Z",
     "iopub.status.busy": "2023-01-26T21:21:57.024306Z",
     "iopub.status.idle": "2023-01-26T21:21:57.066439Z",
     "shell.execute_reply": "2023-01-26T21:21:57.065875Z"
    }
   },
   "outputs": [],
   "source": [
    "hf = hf.sort_values(hf.columns.tolist()).reset_index(drop=True)\n",
    "df = df.sort_values(df.columns.tolist()).reset_index(drop=True)"
   ]
  },
  {
   "cell_type": "markdown",
   "id": "4a344d70",
   "metadata": {},
   "source": [
    "and compare both dataframes."
   ]
  },
  {
   "cell_type": "code",
   "execution_count": 11,
   "id": "82b51265",
   "metadata": {
    "execution": {
     "iopub.execute_input": "2023-01-26T21:21:57.068993Z",
     "iopub.status.busy": "2023-01-26T21:21:57.068768Z",
     "iopub.status.idle": "2023-01-26T21:21:57.077792Z",
     "shell.execute_reply": "2023-01-26T21:21:57.077170Z"
    }
   },
   "outputs": [
    {
     "data": {
      "text/plain": [
       "text     True\n",
       "label    True\n",
       "dtype: bool"
      ]
     },
     "execution_count": 11,
     "metadata": {},
     "output_type": "execute_result"
    }
   ],
   "source": [
    "(hf == df).all()"
   ]
  },
  {
   "cell_type": "code",
   "execution_count": 12,
   "id": "fcd7f98f",
   "metadata": {
    "execution": {
     "iopub.execute_input": "2023-01-26T21:21:57.080212Z",
     "iopub.status.busy": "2023-01-26T21:21:57.079971Z",
     "iopub.status.idle": "2023-01-26T21:21:57.087169Z",
     "shell.execute_reply": "2023-01-26T21:21:57.086577Z"
    }
   },
   "outputs": [
    {
     "data": {
      "text/html": [
       "<div>\n",
       "<style scoped>\n",
       "    .dataframe tbody tr th:only-of-type {\n",
       "        vertical-align: middle;\n",
       "    }\n",
       "\n",
       "    .dataframe tbody tr th {\n",
       "        vertical-align: top;\n",
       "    }\n",
       "\n",
       "    .dataframe thead th {\n",
       "        text-align: right;\n",
       "    }\n",
       "</style>\n",
       "<table border=\"1\" class=\"dataframe\">\n",
       "  <thead>\n",
       "    <tr style=\"text-align: right;\">\n",
       "      <th></th>\n",
       "      <th>text</th>\n",
       "      <th>label</th>\n",
       "    </tr>\n",
       "  </thead>\n",
       "  <tbody>\n",
       "    <tr>\n",
       "      <th>0</th>\n",
       "      <td># Apdi yellam nadakaathu # Naadaka kudathu</td>\n",
       "      <td>Positive</td>\n",
       "    </tr>\n",
       "    <tr>\n",
       "      <th>1</th>\n",
       "      <td># Court la ippudillam kaththa kudathu Mr. vand...</td>\n",
       "      <td>Positive</td>\n",
       "    </tr>\n",
       "    <tr>\n",
       "      <th>2</th>\n",
       "      <td># I set your screens on # Vaa thalaiva#</td>\n",
       "      <td>Positive</td>\n",
       "    </tr>\n",
       "    <tr>\n",
       "      <th>3</th>\n",
       "      <td>###   Pink tamil version  ## thalassemia</td>\n",
       "      <td>Positive</td>\n",
       "    </tr>\n",
       "    <tr>\n",
       "      <th>4</th>\n",
       "      <td>#0.32 that moment Kottaisami thalaikeela dhan ...</td>\n",
       "      <td>Positive</td>\n",
       "    </tr>\n",
       "    <tr>\n",
       "      <th>...</th>\n",
       "      <td>...</td>\n",
       "      <td>...</td>\n",
       "    </tr>\n",
       "    <tr>\n",
       "      <th>15739</th>\n",
       "      <td>🤣🤣🤣Maran waiting la panavendam poi saavunga Aj...</td>\n",
       "      <td>Positive</td>\n",
       "    </tr>\n",
       "    <tr>\n",
       "      <th>15740</th>\n",
       "      <td>🤣🤣🤣Trailer ah da edu edho ad patha mari eruku ...</td>\n",
       "      <td>Mixed_feelings</td>\n",
       "    </tr>\n",
       "    <tr>\n",
       "      <th>15741</th>\n",
       "      <td>🤣🤣🤣🤣🤣 Batman begins!!!! Dawn of Krish!!!! Muga...</td>\n",
       "      <td>Positive</td>\n",
       "    </tr>\n",
       "    <tr>\n",
       "      <th>15742</th>\n",
       "      <td>🤩Naan Tamil Cinema Fan... Semma Trailer  #Thala</td>\n",
       "      <td>Positive</td>\n",
       "    </tr>\n",
       "    <tr>\n",
       "      <th>15743</th>\n",
       "      <td>🤩🧡 hit  rangini-vijay sethupathi fans</td>\n",
       "      <td>Positive</td>\n",
       "    </tr>\n",
       "  </tbody>\n",
       "</table>\n",
       "<p>15744 rows × 2 columns</p>\n",
       "</div>"
      ],
      "text/plain": [
       "                                                    text           label\n",
       "0             # Apdi yellam nadakaathu # Naadaka kudathu        Positive\n",
       "1      # Court la ippudillam kaththa kudathu Mr. vand...        Positive\n",
       "2                # I set your screens on # Vaa thalaiva#        Positive\n",
       "3               ###   Pink tamil version  ## thalassemia        Positive\n",
       "4      #0.32 that moment Kottaisami thalaikeela dhan ...        Positive\n",
       "...                                                  ...             ...\n",
       "15739  🤣🤣🤣Maran waiting la panavendam poi saavunga Aj...        Positive\n",
       "15740  🤣🤣🤣Trailer ah da edu edho ad patha mari eruku ...  Mixed_feelings\n",
       "15741  🤣🤣🤣🤣🤣 Batman begins!!!! Dawn of Krish!!!! Muga...        Positive\n",
       "15742    🤩Naan Tamil Cinema Fan... Semma Trailer  #Thala        Positive\n",
       "15743              🤩🧡 hit  rangini-vijay sethupathi fans        Positive\n",
       "\n",
       "[15744 rows x 2 columns]"
      ]
     },
     "execution_count": 12,
     "metadata": {},
     "output_type": "execute_result"
    }
   ],
   "source": [
    "hf"
   ]
  },
  {
   "cell_type": "code",
   "execution_count": 13,
   "id": "21107122",
   "metadata": {
    "execution": {
     "iopub.execute_input": "2023-01-26T21:21:57.089491Z",
     "iopub.status.busy": "2023-01-26T21:21:57.089261Z",
     "iopub.status.idle": "2023-01-26T21:21:57.096884Z",
     "shell.execute_reply": "2023-01-26T21:21:57.096326Z"
    }
   },
   "outputs": [
    {
     "data": {
      "text/html": [
       "<div>\n",
       "<style scoped>\n",
       "    .dataframe tbody tr th:only-of-type {\n",
       "        vertical-align: middle;\n",
       "    }\n",
       "\n",
       "    .dataframe tbody tr th {\n",
       "        vertical-align: top;\n",
       "    }\n",
       "\n",
       "    .dataframe thead th {\n",
       "        text-align: right;\n",
       "    }\n",
       "</style>\n",
       "<table border=\"1\" class=\"dataframe\">\n",
       "  <thead>\n",
       "    <tr style=\"text-align: right;\">\n",
       "      <th></th>\n",
       "      <th>text</th>\n",
       "      <th>label</th>\n",
       "    </tr>\n",
       "  </thead>\n",
       "  <tbody>\n",
       "    <tr>\n",
       "      <th>0</th>\n",
       "      <td># Apdi yellam nadakaathu # Naadaka kudathu</td>\n",
       "      <td>Positive</td>\n",
       "    </tr>\n",
       "    <tr>\n",
       "      <th>1</th>\n",
       "      <td># Court la ippudillam kaththa kudathu Mr. vand...</td>\n",
       "      <td>Positive</td>\n",
       "    </tr>\n",
       "    <tr>\n",
       "      <th>2</th>\n",
       "      <td># I set your screens on # Vaa thalaiva#</td>\n",
       "      <td>Positive</td>\n",
       "    </tr>\n",
       "    <tr>\n",
       "      <th>3</th>\n",
       "      <td>###   Pink tamil version  ## thalassemia</td>\n",
       "      <td>Positive</td>\n",
       "    </tr>\n",
       "    <tr>\n",
       "      <th>4</th>\n",
       "      <td>#0.32 that moment Kottaisami thalaikeela dhan ...</td>\n",
       "      <td>Positive</td>\n",
       "    </tr>\n",
       "    <tr>\n",
       "      <th>...</th>\n",
       "      <td>...</td>\n",
       "      <td>...</td>\n",
       "    </tr>\n",
       "    <tr>\n",
       "      <th>15739</th>\n",
       "      <td>🤣🤣🤣Maran waiting la panavendam poi saavunga Aj...</td>\n",
       "      <td>Positive</td>\n",
       "    </tr>\n",
       "    <tr>\n",
       "      <th>15740</th>\n",
       "      <td>🤣🤣🤣Trailer ah da edu edho ad patha mari eruku ...</td>\n",
       "      <td>Mixed_feelings</td>\n",
       "    </tr>\n",
       "    <tr>\n",
       "      <th>15741</th>\n",
       "      <td>🤣🤣🤣🤣🤣 Batman begins!!!! Dawn of Krish!!!! Muga...</td>\n",
       "      <td>Positive</td>\n",
       "    </tr>\n",
       "    <tr>\n",
       "      <th>15742</th>\n",
       "      <td>🤩Naan Tamil Cinema Fan... Semma Trailer  #Thala</td>\n",
       "      <td>Positive</td>\n",
       "    </tr>\n",
       "    <tr>\n",
       "      <th>15743</th>\n",
       "      <td>🤩🧡 hit  rangini-vijay sethupathi fans</td>\n",
       "      <td>Positive</td>\n",
       "    </tr>\n",
       "  </tbody>\n",
       "</table>\n",
       "<p>15744 rows × 2 columns</p>\n",
       "</div>"
      ],
      "text/plain": [
       "                                                    text           label\n",
       "0             # Apdi yellam nadakaathu # Naadaka kudathu        Positive\n",
       "1      # Court la ippudillam kaththa kudathu Mr. vand...        Positive\n",
       "2                # I set your screens on # Vaa thalaiva#        Positive\n",
       "3               ###   Pink tamil version  ## thalassemia        Positive\n",
       "4      #0.32 that moment Kottaisami thalaikeela dhan ...        Positive\n",
       "...                                                  ...             ...\n",
       "15739  🤣🤣🤣Maran waiting la panavendam poi saavunga Aj...        Positive\n",
       "15740  🤣🤣🤣Trailer ah da edu edho ad patha mari eruku ...  Mixed_feelings\n",
       "15741  🤣🤣🤣🤣🤣 Batman begins!!!! Dawn of Krish!!!! Muga...        Positive\n",
       "15742    🤩Naan Tamil Cinema Fan... Semma Trailer  #Thala        Positive\n",
       "15743              🤩🧡 hit  rangini-vijay sethupathi fans        Positive\n",
       "\n",
       "[15744 rows x 2 columns]"
      ]
     },
     "execution_count": 13,
     "metadata": {},
     "output_type": "execute_result"
    }
   ],
   "source": [
    "df"
   ]
  },
  {
   "cell_type": "markdown",
   "id": "53f8c246",
   "metadata": {},
   "source": [
    "In conclusion, both datasets are the same after recoding the labels and stripping white spaces"
   ]
  }
 ],
 "metadata": {
  "language_info": {
   "codemirror_mode": {
    "name": "ipython",
    "version": 3
   },
   "file_extension": ".py",
   "mimetype": "text/x-python",
   "name": "python",
   "nbconvert_exporter": "python",
   "pygments_lexer": "ipython3",
   "version": "3.9.16"
  },
  "widgets": {
   "application/vnd.jupyter.widget-state+json": {
    "state": {
     "06ad2e52a8b441b8afa39bac26a83048": {
      "model_module": "@jupyter-widgets/base",
      "model_module_version": "1.2.0",
      "model_name": "LayoutModel",
      "state": {
       "_model_module": "@jupyter-widgets/base",
       "_model_module_version": "1.2.0",
       "_model_name": "LayoutModel",
       "_view_count": null,
       "_view_module": "@jupyter-widgets/base",
       "_view_module_version": "1.2.0",
       "_view_name": "LayoutView",
       "align_content": null,
       "align_items": null,
       "align_self": null,
       "border": null,
       "bottom": null,
       "display": null,
       "flex": null,
       "flex_flow": null,
       "grid_area": null,
       "grid_auto_columns": null,
       "grid_auto_flow": null,
       "grid_auto_rows": null,
       "grid_column": null,
       "grid_gap": null,
       "grid_row": null,
       "grid_template_areas": null,
       "grid_template_columns": null,
       "grid_template_rows": null,
       "height": null,
       "justify_content": null,
       "justify_items": null,
       "left": null,
       "margin": null,
       "max_height": null,
       "max_width": null,
       "min_height": null,
       "min_width": null,
       "object_fit": null,
       "object_position": null,
       "order": null,
       "overflow": null,
       "overflow_x": null,
       "overflow_y": null,
       "padding": null,
       "right": null,
       "top": null,
       "visibility": null,
       "width": null
      }
     },
     "15532441c140426cbeca4d908b15494a": {
      "model_module": "@jupyter-widgets/base",
      "model_module_version": "1.2.0",
      "model_name": "LayoutModel",
      "state": {
       "_model_module": "@jupyter-widgets/base",
       "_model_module_version": "1.2.0",
       "_model_name": "LayoutModel",
       "_view_count": null,
       "_view_module": "@jupyter-widgets/base",
       "_view_module_version": "1.2.0",
       "_view_name": "LayoutView",
       "align_content": null,
       "align_items": null,
       "align_self": null,
       "border": null,
       "bottom": null,
       "display": null,
       "flex": null,
       "flex_flow": null,
       "grid_area": null,
       "grid_auto_columns": null,
       "grid_auto_flow": null,
       "grid_auto_rows": null,
       "grid_column": null,
       "grid_gap": null,
       "grid_row": null,
       "grid_template_areas": null,
       "grid_template_columns": null,
       "grid_template_rows": null,
       "height": null,
       "justify_content": null,
       "justify_items": null,
       "left": null,
       "margin": null,
       "max_height": null,
       "max_width": null,
       "min_height": null,
       "min_width": null,
       "object_fit": null,
       "object_position": null,
       "order": null,
       "overflow": null,
       "overflow_x": null,
       "overflow_y": null,
       "padding": null,
       "right": null,
       "top": null,
       "visibility": null,
       "width": null
      }
     },
     "1d2d44c3eb6f4359aae886636877e492": {
      "model_module": "@jupyter-widgets/controls",
      "model_module_version": "1.5.0",
      "model_name": "ProgressStyleModel",
      "state": {
       "_model_module": "@jupyter-widgets/controls",
       "_model_module_version": "1.5.0",
       "_model_name": "ProgressStyleModel",
       "_view_count": null,
       "_view_module": "@jupyter-widgets/base",
       "_view_module_version": "1.2.0",
       "_view_name": "StyleView",
       "bar_color": null,
       "description_width": ""
      }
     },
     "399757ba744946b7a10ae0b3e4a974e0": {
      "model_module": "@jupyter-widgets/controls",
      "model_module_version": "1.5.0",
      "model_name": "HBoxModel",
      "state": {
       "_dom_classes": [],
       "_model_module": "@jupyter-widgets/controls",
       "_model_module_version": "1.5.0",
       "_model_name": "HBoxModel",
       "_view_count": null,
       "_view_module": "@jupyter-widgets/controls",
       "_view_module_version": "1.5.0",
       "_view_name": "HBoxView",
       "box_style": "",
       "children": [
        "IPY_MODEL_568b5da018294ce18bb14eb6a719d99f",
        "IPY_MODEL_568f2cf4c09c42cf9f1047ff33b5bc60",
        "IPY_MODEL_cfa4dd28c7a34a7f821ea20f797c4055"
       ],
       "layout": "IPY_MODEL_537d7dfc8c834890b8e443afb963b9e3"
      }
     },
     "537d7dfc8c834890b8e443afb963b9e3": {
      "model_module": "@jupyter-widgets/base",
      "model_module_version": "1.2.0",
      "model_name": "LayoutModel",
      "state": {
       "_model_module": "@jupyter-widgets/base",
       "_model_module_version": "1.2.0",
       "_model_name": "LayoutModel",
       "_view_count": null,
       "_view_module": "@jupyter-widgets/base",
       "_view_module_version": "1.2.0",
       "_view_name": "LayoutView",
       "align_content": null,
       "align_items": null,
       "align_self": null,
       "border": null,
       "bottom": null,
       "display": null,
       "flex": null,
       "flex_flow": null,
       "grid_area": null,
       "grid_auto_columns": null,
       "grid_auto_flow": null,
       "grid_auto_rows": null,
       "grid_column": null,
       "grid_gap": null,
       "grid_row": null,
       "grid_template_areas": null,
       "grid_template_columns": null,
       "grid_template_rows": null,
       "height": null,
       "justify_content": null,
       "justify_items": null,
       "left": null,
       "margin": null,
       "max_height": null,
       "max_width": null,
       "min_height": null,
       "min_width": null,
       "object_fit": null,
       "object_position": null,
       "order": null,
       "overflow": null,
       "overflow_x": null,
       "overflow_y": null,
       "padding": null,
       "right": null,
       "top": null,
       "visibility": null,
       "width": null
      }
     },
     "568b5da018294ce18bb14eb6a719d99f": {
      "model_module": "@jupyter-widgets/controls",
      "model_module_version": "1.5.0",
      "model_name": "HTMLModel",
      "state": {
       "_dom_classes": [],
       "_model_module": "@jupyter-widgets/controls",
       "_model_module_version": "1.5.0",
       "_model_name": "HTMLModel",
       "_view_count": null,
       "_view_module": "@jupyter-widgets/controls",
       "_view_module_version": "1.5.0",
       "_view_name": "HTMLView",
       "description": "",
       "description_tooltip": null,
       "layout": "IPY_MODEL_06ad2e52a8b441b8afa39bac26a83048",
       "placeholder": "​",
       "style": "IPY_MODEL_bd70175e68f842e7a628744bd0fa5571",
       "value": "100%"
      }
     },
     "568f2cf4c09c42cf9f1047ff33b5bc60": {
      "model_module": "@jupyter-widgets/controls",
      "model_module_version": "1.5.0",
      "model_name": "FloatProgressModel",
      "state": {
       "_dom_classes": [],
       "_model_module": "@jupyter-widgets/controls",
       "_model_module_version": "1.5.0",
       "_model_name": "FloatProgressModel",
       "_view_count": null,
       "_view_module": "@jupyter-widgets/controls",
       "_view_module_version": "1.5.0",
       "_view_name": "ProgressView",
       "bar_style": "success",
       "description": "",
       "description_tooltip": null,
       "layout": "IPY_MODEL_fefb1fb6b77c48658351ff603df8359f",
       "max": 3.0,
       "min": 0.0,
       "orientation": "horizontal",
       "style": "IPY_MODEL_1d2d44c3eb6f4359aae886636877e492",
       "value": 3.0
      }
     },
     "60fa301e589841d1a680d30f66344102": {
      "model_module": "@jupyter-widgets/controls",
      "model_module_version": "1.5.0",
      "model_name": "DescriptionStyleModel",
      "state": {
       "_model_module": "@jupyter-widgets/controls",
       "_model_module_version": "1.5.0",
       "_model_name": "DescriptionStyleModel",
       "_view_count": null,
       "_view_module": "@jupyter-widgets/base",
       "_view_module_version": "1.2.0",
       "_view_name": "StyleView",
       "description_width": ""
      }
     },
     "bd70175e68f842e7a628744bd0fa5571": {
      "model_module": "@jupyter-widgets/controls",
      "model_module_version": "1.5.0",
      "model_name": "DescriptionStyleModel",
      "state": {
       "_model_module": "@jupyter-widgets/controls",
       "_model_module_version": "1.5.0",
       "_model_name": "DescriptionStyleModel",
       "_view_count": null,
       "_view_module": "@jupyter-widgets/base",
       "_view_module_version": "1.2.0",
       "_view_name": "StyleView",
       "description_width": ""
      }
     },
     "cfa4dd28c7a34a7f821ea20f797c4055": {
      "model_module": "@jupyter-widgets/controls",
      "model_module_version": "1.5.0",
      "model_name": "HTMLModel",
      "state": {
       "_dom_classes": [],
       "_model_module": "@jupyter-widgets/controls",
       "_model_module_version": "1.5.0",
       "_model_name": "HTMLModel",
       "_view_count": null,
       "_view_module": "@jupyter-widgets/controls",
       "_view_module_version": "1.5.0",
       "_view_name": "HTMLView",
       "description": "",
       "description_tooltip": null,
       "layout": "IPY_MODEL_15532441c140426cbeca4d908b15494a",
       "placeholder": "​",
       "style": "IPY_MODEL_60fa301e589841d1a680d30f66344102",
       "value": " 3/3 [00:00&lt;00:00, 85.67it/s]"
      }
     },
     "fefb1fb6b77c48658351ff603df8359f": {
      "model_module": "@jupyter-widgets/base",
      "model_module_version": "1.2.0",
      "model_name": "LayoutModel",
      "state": {
       "_model_module": "@jupyter-widgets/base",
       "_model_module_version": "1.2.0",
       "_model_name": "LayoutModel",
       "_view_count": null,
       "_view_module": "@jupyter-widgets/base",
       "_view_module_version": "1.2.0",
       "_view_name": "LayoutView",
       "align_content": null,
       "align_items": null,
       "align_self": null,
       "border": null,
       "bottom": null,
       "display": null,
       "flex": null,
       "flex_flow": null,
       "grid_area": null,
       "grid_auto_columns": null,
       "grid_auto_flow": null,
       "grid_auto_rows": null,
       "grid_column": null,
       "grid_gap": null,
       "grid_row": null,
       "grid_template_areas": null,
       "grid_template_columns": null,
       "grid_template_rows": null,
       "height": null,
       "justify_content": null,
       "justify_items": null,
       "left": null,
       "margin": null,
       "max_height": null,
       "max_width": null,
       "min_height": null,
       "min_width": null,
       "object_fit": null,
       "object_position": null,
       "order": null,
       "overflow": null,
       "overflow_x": null,
       "overflow_y": null,
       "padding": null,
       "right": null,
       "top": null,
       "visibility": null,
       "width": null
      }
     }
    },
    "version_major": 2,
    "version_minor": 0
   }
  }
 },
 "nbformat": 4,
 "nbformat_minor": 5
}
